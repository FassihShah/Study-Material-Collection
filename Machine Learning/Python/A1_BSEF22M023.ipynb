{
  "nbformat": 4,
  "nbformat_minor": 0,
  "metadata": {
    "colab": {
      "provenance": []
    },
    "kernelspec": {
      "name": "python3",
      "display_name": "Python 3"
    },
    "language_info": {
      "name": "python"
    }
  },
  "cells": [
    {
      "cell_type": "code",
      "execution_count": null,
      "metadata": {
        "colab": {
          "base_uri": "https://localhost:8080/"
        },
        "id": "XQlCvsuzH3yW",
        "outputId": "fbea4cb5-483b-4104-967c-13ec1ceb93c3"
      },
      "outputs": [
        {
          "output_type": "stream",
          "name": "stdout",
          "text": [
            "Mounted at /content/drive/\n"
          ]
        }
      ],
      "source": [
        "from google.colab import drive\n",
        "drive.mount('/content/drive/')"
      ]
    },
    {
      "cell_type": "code",
      "source": [
        "import pandas as pd\n",
        "import numpy as np\n",
        "import matplotlib.pyplot as plt"
      ],
      "metadata": {
        "id": "Tx6FdLFpIYb1"
      },
      "execution_count": null,
      "outputs": []
    },
    {
      "cell_type": "code",
      "source": [
        "train_data = pd.read_csv('/content/drive/MyDrive/train.csv')\n",
        "test_data = pd.read_csv('/content/drive/MyDrive/test.csv')\n",
        "print(\"Train Data (First 10 rows):\")\n",
        "print(train_data.head(10))\n",
        "\n",
        "print(\"\\nTest Data (First 10 rows):\")\n",
        "print(test_data.head(10))"
      ],
      "metadata": {
        "colab": {
          "base_uri": "https://localhost:8080/"
        },
        "id": "t2D2hDAfIfi0",
        "outputId": "f24104f6-7193-43a7-e385-963dc2914770"
      },
      "execution_count": null,
      "outputs": [
        {
          "output_type": "stream",
          "name": "stdout",
          "text": [
            "Train Data (First 10 rows):\n",
            "    x          y\n",
            "0  24  21.549452\n",
            "1  50  47.464463\n",
            "2  15  17.218656\n",
            "3  38  36.586398\n",
            "4  87  87.288984\n",
            "5  36  32.463875\n",
            "6  12  10.780897\n",
            "7  81  80.763399\n",
            "8  25  24.612151\n",
            "9   5   6.963319\n",
            "\n",
            "Test Data (First 10 rows):\n",
            "    x          y\n",
            "0  77  79.775152\n",
            "1  21  23.177279\n",
            "2  22  25.609262\n",
            "3  20  17.857388\n",
            "4  36  41.849864\n",
            "5  15   9.805235\n",
            "6  62  58.874659\n",
            "7  95  97.617937\n",
            "8  20  18.395127\n",
            "9   5   8.746748\n"
          ]
        }
      ]
    },
    {
      "cell_type": "code",
      "source": [
        "train_np = train_data.to_numpy()\n",
        "test_np = test_data.to_numpy()\n",
        "\n",
        "print(\"\\nShape of Train Data:\", train_np.shape)\n",
        "print(\"Shape of Test Data:\", test_np.shape)"
      ],
      "metadata": {
        "colab": {
          "base_uri": "https://localhost:8080/"
        },
        "id": "e7uqV2X4LczN",
        "outputId": "d3630db6-b266-4481-e635-7695830e3d79"
      },
      "execution_count": null,
      "outputs": [
        {
          "output_type": "stream",
          "name": "stdout",
          "text": [
            "\n",
            "Shape of Train Data: (699, 2)\n",
            "Shape of Test Data: (300, 2)\n"
          ]
        }
      ]
    },
    {
      "cell_type": "code",
      "source": [
        "theta0_arr = np.arange(-0.5,1.6,0.2)\n",
        "theta1_arr = np.arange(-0.5,1.6,0.2)\n",
        "\n",
        "X = train_np[:,0]\n",
        "Y = train_np[:,1]\n",
        "\n",
        "def hypothesis(X,theta0,theta1):\n",
        "  return (X * theta1) + theta0\n",
        "\n",
        "def calculateCost(X,Y,theta0,theta1):\n",
        "  Y1 = hypothesis(X, theta0, theta1)\n",
        "  sum = np.sum(np.square(Y1 - Y))\n",
        "  cost = (1 / (2 * len(X))) * sum\n",
        "  return cost\n",
        "\n",
        "min_cost = calculateCost(X,Y,-0.5,-0.5)\n",
        "optimal_theta0, optimal_theta1 = -0.5, -0.5\n",
        "\n",
        "for theta0 in theta0_arr:\n",
        "  for theta1 in theta1_arr:\n",
        "    cost = calculateCost(X,Y,theta0,theta1)\n",
        "    if cost < min_cost:\n",
        "      min_cost = cost\n",
        "      optimal_theta0, optimal_theta1 = theta0, theta1\n",
        "\n",
        "print(f\"Minimum cost is: {min_cost}\")\n",
        "print(f\"Optimal theta0 is: {optimal_theta0}\")\n",
        "print(f\"Optimal theta1 is: {optimal_theta1}\")"
      ],
      "metadata": {
        "colab": {
          "base_uri": "https://localhost:8080/"
        },
        "id": "l4xFVfcXRLbm",
        "outputId": "c86b2734-eaf9-42c2-c945-db0d7314b2da"
      },
      "execution_count": null,
      "outputs": [
        {
          "output_type": "stream",
          "name": "stdout",
          "text": [
            "Minimum cost is: 14.046985412889548\n",
            "Optimal theta0 is: 1.5\n",
            "Optimal theta1 is: 0.9000000000000001\n"
          ]
        }
      ]
    },
    {
      "cell_type": "code",
      "source": [
        "X_test = test_np[:, 0]\n",
        "Y_test = test_np[:, 1]\n",
        "\n",
        "pred_Y = hypothesis(X_test, optimal_theta0, optimal_theta1)\n",
        "print(\"\\nPredicted Outputs for Test Data:\")\n",
        "print(pred_Y)"
      ],
      "metadata": {
        "colab": {
          "base_uri": "https://localhost:8080/"
        },
        "id": "5ymdQey3ZPC2",
        "outputId": "2dccc5ca-6a32-4a95-9e0b-739ee1f6db3e"
      },
      "execution_count": null,
      "outputs": [
        {
          "output_type": "stream",
          "name": "stdout",
          "text": [
            "\n",
            "Predicted Outputs for Test Data:\n",
            "[70.8 20.4 21.3 19.5 33.9 15.  57.3 87.  19.5  6.   5.1 18.6 87.9 57.3\n",
            " 33.9 15.  60.  14.1 79.8 63.6 81.6 47.4 81.6 25.8 88.8 53.7 72.6 20.4\n",
            " 85.2 25.8 90.6 29.4 31.2 73.5 26.7 43.8 49.2 63.6 26.7 31.2 83.4 65.4\n",
            " 46.5 69.9  5.1 34.8 64.5 62.7 37.5 33.  86.1 80.7 48.3 29.4 54.6  1.5\n",
            " 36.6 59.1 63.6 52.8 13.2 66.3 69.9 56.4 75.3 17.7 38.4 46.5 51.  13.2\n",
            " 42.9 13.2 72.6 49.2 15.  26.7 74.4 63.6 48.3 77.1 62.7 25.8 51.9 44.7\n",
            " 37.5 36.6 75.3 91.5 54.6 40.2 61.8 35.7 58.2 83.4 55.5 14.1 20.4 79.8\n",
            " 67.2 30.3  3.3 75.3 18.6 68.1 39.3 12.3  2.4 82.5 81.6  1.5 38.4 15.9\n",
            " 86.1 88.8 60.9 23.1 16.8 82.5 13.2  1.5 59.1 87.9 89.7 12.3 38.4 43.8\n",
            " 71.7 19.5 81.6 27.6 59.1 69.  12.3 24.  26.7 28.5 60.  54.6 59.1 49.2\n",
            " 65.4 88.8 67.2  9.6 12.3 58.2 90.6 55.5 33.   3.3 55.5 30.3 86.1 77.1\n",
            " 58.2 21.3 74.4 85.2 31.2  7.8 39.3 42.9 50.1 15.9 45.6 40.2 87.  60.9\n",
            " 20.4 33.  73.5 34.8 50.1 51.9  2.4 30.3 53.7 30.3 42.9 66.3 16.8 88.8\n",
            " 85.2 83.4 34.8  5.1 50.1 47.4 25.8 42.9 84.3 67.2 70.8 83.4 56.4 90.6\n",
            "  5.1 66.3 18.6 52.8 71.7 24.9 68.1 82.5 60.9 13.2 37.5 70.8 61.8 69.\n",
            " 22.2 42.  54.6 41.1 22.2 51.  51.  87.  12.3  5.1  7.8 91.5 44.7 39.3\n",
            " 87.9 36.6 91.5 79.8 14.1 14.1 34.8  6.  80.7 83.4 60.  68.1 51.9 15.9\n",
            "  6.  26.7 84.3 42.9 50.1 36.6 41.1 29.4 62.7 78.9 82.5 35.7 20.4 87.\n",
            " 51.9 55.5 60.  71.7 81.6  6.9 61.8 33.9 15.9 91.5 42.  67.2 52.8 19.5\n",
            " 69.9 32.1 51.  66.3 51.   8.7 51.9 66.3 53.7  6.9 87.9 22.2 53.7 22.2\n",
            " 18.6 24.  59.1 20.4 54.6 18.6 15.9 39.3 40.2 56.4 84.3 11.4 38.4  2.4\n",
            "  8.7 65.4 42.9 51.  57.3 43.8]\n"
          ]
        }
      ]
    },
    {
      "cell_type": "code",
      "source": [
        "plt.scatter(X_test, Y_test, color='blue', label='Actual')\n",
        "plt.plot(X_test, pred_Y, color='red', label='Predicted')\n",
        "plt.title('Actual vs Predicted Output')\n",
        "plt.xlabel('x')\n",
        "plt.ylabel('y')\n",
        "plt.legend()\n",
        "plt.show()"
      ],
      "metadata": {
        "colab": {
          "base_uri": "https://localhost:8080/",
          "height": 472
        },
        "id": "j0eAA5OSbHqr",
        "outputId": "78ed83d9-2ad5-48b6-8450-95d44340abba"
      },
      "execution_count": null,
      "outputs": [
        {
          "output_type": "display_data",
          "data": {
            "text/plain": [
              "<Figure size 640x480 with 1 Axes>"
            ],
            "image/png": "[encoded data removed]"
          },
          "metadata": {}
        }
      ]
    },
    {
      "cell_type": "code",
      "source": [
        "def optimalThetas(X,Y,alpha):\n",
        "  theta0, theta1 = np.random.randn(), np.random.randn()\n",
        "  m = len(Y)\n",
        "  newCost, prevCost = calculateCost(X,Y,theta0,theta1),0\n",
        "  while 1:\n",
        "    prevCost = newCost\n",
        "    Y1 = hypothesis(X,theta0,theta1)\n",
        "    gradient0 = (1 / m) * np.sum(Y1 - Y)\n",
        "    gradient1 = (1 / m) * np.sum((Y1 - Y) * X)\n",
        "    theta0 = theta0 - (alpha*gradient0)\n",
        "    theta1 = theta1 - (alpha*gradient1)\n",
        "    newCost = calculateCost(X,Y,theta0,theta1)\n",
        "    print(f\"Cost: {newCost}, Theta0: {theta0}, Theta1: {theta1}\")\n",
        "    if(abs(prevCost-newCost) < 1e-6):        # Termination condition\n",
        "      break;\n",
        "  return theta0 ,theta1\n",
        "\n",
        "x = np.array([5,10,15])\n",
        "y = np.array([15,25,35])\n",
        "alpha = 0.00001\n",
        "optimalTheta0, optimalTheta1 = optimalThetas(X_test,Y_test,alpha)\n",
        "print(f\"Optimal Theta 0: {optimalTheta0}, Optimal Theta 1: {optimalTheta1}\")\n"
      ],
      "metadata": {
        "colab": {
          "base_uri": "https://localhost:8080/"
        },
        "id": "gw5UjoIAd5Qf",
        "outputId": "b98b03f0-8da4-443d-da60-a8f528da2acf"
      },
      "execution_count": 76,
      "outputs": [
        {
          "output_type": "stream",
          "name": "stdout",
          "text": [
            "Cost: 552.0706486201483, Theta0: -0.7009543676899253, Theta1: 0.450781727577406\n",
            "Cost: 515.4208895360808, Theta0: -0.7006649208212359, Theta1: 0.4700887645612555\n",
            "Cost: 481.2245524908191, Theta0: -0.7003853112080869, Theta1: 0.488738378858366\n",
            "Cost: 449.31739957787005, Theta0: -0.7001152038829032, Theta1: 0.5067529563172591\n",
            "Cost: 419.5461873668243, Theta0: -0.6998542752840644, Theta1: 0.5241541205276781\n",
            "Cost: 391.7679309069786, Theta0: -0.6996022128675216, Theta1: 0.5409627587762018\n",
            "Cost: 365.8492170003045, Theta0: -0.6993587147316388, Theta1: 0.5571990471180466\n",
            "Cost: 341.6655634455595, Theta0: -0.699123489254809, Theta1: 0.5728824745951496\n",
            "Cost: 319.10082117612035, Theta0: -0.6988962547454101, Theta1: 0.5880318666296044\n",
            "Cost: 298.0466164201326, Theta0: -0.6986767391036788, Theta1: 0.602665407620528\n",
            "Cost: 278.4018302037855, Theta0: -0.6984646794950999, Theta1: 0.6168006627714846\n",
            "Cost: 260.07211269787666, Theta0: -0.6982598220349159, Theta1: 0.6304545991746646\n",
            "Cost: 242.96943007517186, Theta0: -0.698061921483379, Theta1: 0.6436436061771287\n",
            "Cost: 227.01164170221142, Theta0: -0.6978707409513811, Theta1: 0.6563835150535615\n",
            "Cost: 212.12210563490277, Theta0: -0.6976860516161066, Theta1: 0.6686896180091509\n",
            "Cost: 198.2293105231758, Theta0: -0.6975076324463676, Theta1: 0.6805766865354013\n",
            "Cost: 185.26653215681674, Theta0: -0.697335269937292, Theta1: 0.6920589891409141\n",
            "Cost: 173.17151300294006, Theta0: -0.6971687578540453, Theta1: 0.7031503084784201\n",
            "Cost: 161.8861631959852, Theta0: -0.6970078969842793, Theta1: 0.7138639578886187\n",
            "Cost: 151.35628154415275, Theta0: -0.6968524948990099, Theta1: 0.724212797380686\n",
            "Cost: 141.53129521233433, Theta0: -0.6967023657216374, Theta1: 0.7342092490686309\n",
            "Cost: 132.36401683128653, Theta0: -0.6965573299048313, Theta1: 0.743865312082029\n",
            "Cost: 123.81041786649294, Theta0: -0.6964172140150137, Theta1: 0.7531925769690324\n",
            "Cost: 115.8294171582553, Theta0: -0.6962818505241796, Theta1: 0.7622022396089444\n",
            "Cost: 108.38268361741308, Theta0: -0.696151077608807, Theta1: 0.7709051146510569\n",
            "Cost: 101.43445212908043, Theta0: -0.6960247389556142, Theta1: 0.7793116484958843\n",
            "Cost: 94.95135178022589, Theta0: -0.6959026835739308, Theta1: 0.7874319318343734\n",
            "Cost: 88.90224558610556, Theta0: -0.6957847656144577, Theta1: 0.7952757117601424\n",
            "Cost: 83.25808094579043, Theta0: -0.695670844194199, Theta1: 0.8028524034692867\n",
            "Cost: 77.99175010855654, Theta0: -0.6955607832273548, Theta1: 0.8101711015617948\n",
            "Cost: 73.07795998098621, Theta0: -0.6954544512619719, Theta1: 0.8172405909581425\n",
            "Cost: 68.4931106494923, Theta0: -0.6953517213221576, Theta1: 0.8240693574441647\n",
            "Cost: 64.21518203483313, Theta0: -0.6952524707556651, Theta1: 0.8306655978568662\n",
            "Cost: 60.223628134243995, Theta0: -0.6951565810866698, Theta1: 0.8370372299233959\n",
            "Cost: 56.49927834325188, Theta0: -0.6950639378735581, Theta1: 0.843191901764994\n",
            "Cost: 53.02424538324255, Theta0: -0.6949744305715589, Theta1: 0.8491370010773224\n",
            "Cost: 49.78183939257521, Theta0: -0.6948879524000525, Theta1: 0.8548796639981953\n",
            "Cost: 46.7564877686424, Theta0: -0.6948044002143976, Theta1: 0.8604267836733561\n",
            "Cost: 43.9336603758933, Theta0: -0.6947236743821231, Theta1: 0.8657850185305812\n",
            "Cost: 41.29979976060901, Theta0: -0.6946456786633354, Theta1: 0.8709608002720433\n",
            "Cost: 38.84225603726782, Theta0: -0.6945703200951979, Theta1: 0.8759603415945268\n",
            "Cost: 36.54922613377121, Theta0: -0.6944975088803444, Theta1: 0.8807896436467642\n",
            "Cost: 34.40969710373934, Theta0: -0.6944271582790917, Theta1: 0.8854545032328407\n",
            "Cost: 32.41339323361624, Theta0: -0.6943591845053229, Theta1: 0.8899605197703193\n",
            "Cost: 30.55072669055118, Theta0: -0.6942935066259154, Theta1: 0.894313102011433\n",
            "Cost: 28.81275147402802, Theta0: -0.6942300464635942, Theta1: 0.8985174745354153\n",
            "Cost: 27.191120450082447, Theta0: -0.6941687285030926, Theta1: 0.9025786840197605\n",
            "Cost: 25.67804526175041, Theta0: -0.6941094798005084, Theta1: 0.9065016052979422\n",
            "Cost: 24.266258923206955, Theta0: -0.6940522298957462, Theta1: 0.9102909472108602\n",
            "Cost: 22.948980917942, Theta0: -0.6939969107279421, Theta1: 0.913951258259041\n",
            "Cost: 21.719884633347352, Theta0: -0.6939434565537673, Theta1: 0.9174869320623752\n",
            "Cost: 20.573066975310123, Theta0: -0.6938918038685139, Theta1: 0.9209022126339458\n",
            "Cost: 19.503020016877183, Theta0: -0.6938418913298677, Theta1: 0.9242011994742781\n",
            "Cost: 18.504604544825703, Theta0: -0.6937936596842772, Theta1: 0.9273878524921256\n",
            "Cost: 17.573025377089138, Theta0: -0.6937470516958286, Theta1: 0.930465996757698\n",
            "Cost: 16.70380833249327, Theta0: -0.693702012077544, Theta1: 0.9334393270940385\n",
            "Cost: 15.892778742193078, Theta0: -0.6936584874250179, Theta1: 0.9363114125120597\n",
            "Cost: 15.1360413996051, Theta0: -0.6936164261523141, Theta1: 0.9390857004945624\n",
            "Cost: 14.429961852538831, Theta0: -0.693575778430045, Theta1: 0.9417655211343801\n",
            "Cost: 13.771148947677673, Theta0: -0.6935364961255598, Theta1: 0.9443540911316154\n",
            "Cost: 13.156438543573499, Theta0: -0.6934985327451685, Theta1: 0.9468545176547674\n",
            "Cost: 12.582878313932342, Theta0: -0.6934618433783344, Theta1: 0.9492698020703831\n",
            "Cost: 12.047713568204127, Theta0: -0.6934263846437657, Theta1: 0.9516028435457123\n",
            "Cost: 11.548374021375949, Theta0: -0.693392114637344, Theta1: 0.9538564425286871\n",
            "Cost: 11.082461449426889, Theta0: -0.6933589928818242, Theta1: 0.9560333041094057\n",
            "Cost: 10.647738171155847, Theta0: -0.6933269802782491, Theta1: 0.9581360412671552\n",
            "Cost: 10.242116301063477, Theta0: -0.693296039059017, Theta1: 0.9601671780068692\n",
            "Cost: 9.863647721671567, Theta0: -0.6932661327425478, Theta1: 0.9621291523887864\n",
            "Cost: 9.51051472711926, Theta0: -0.6932372260894927, Theta1: 0.9640243194549469\n",
            "Cost: 9.181021293099308, Theta0: -0.6932092850604353, Theta1: 0.9658549540560385\n",
            "Cost: 8.873584931205405, Theta0: -0.693182276775033, Theta1: 0.9676232535819859\n",
            "Cost: 8.586729088568898, Theta0: -0.6931561694725487, Theta1: 0.9693313405995613\n",
            "Cost: 8.319076056282052, Theta0: -0.6931309324737279, Theta1: 0.9709812654001816\n",
            "Cost: 8.069340352548133, Theta0: -0.6931065361439731, Theta1: 0.972575008460951\n",
            "Cost: 7.836322548779275, Theta0: -0.6930829518577719, Theta1: 0.9741144828219026\n",
            "Cost: 7.618903508989969, Theta0: -0.6930601519643372, Theta1: 0.9756015363822927\n",
            "Cost: 7.416039014819386, Theta0: -0.6930381097544167, Theta1: 0.9770379541187048\n",
            "Cost: 7.226754750367309, Theta0: -0.6930167994282327, Theta1: 0.9784254602276238\n",
            "Cost: 7.050141622757167, Theta0: -0.6929961960645136, Theta1: 0.9797657201950553\n",
            "Cost: 6.885351395951777, Theta0: -0.6929762755905802, Theta1: 0.9810603427956708\n",
            "Cost: 6.731592616851713, Theta0: -0.6929570147534502, Theta1: 0.9823108820238813\n",
            "Cost: 6.588126814110404, Theta0: -0.6929383910919268, Theta1: 0.9835188389591557\n",
            "Cost: 6.454264951409604, Theta0: -0.6929203829096376, Theta1: 0.984685663567823\n",
            "Cost: 6.329364118161013, Theta0: -0.6929029692489918, Theta1: 0.9858127564435224\n",
            "Cost: 6.212824441740215, Theta0: -0.6928861298660236, Theta1: 0.9869014704883882\n",
            "Cost: 6.10408620642299, Theta0: -0.6928698452060933, Theta1: 0.98795311253699\n",
            "Cost: 6.0026271651869605, Theta0: -0.6928540963804144, Theta1: 0.9889689449249758\n",
            "Cost: 5.907960031467507, Theta0: -0.6928388651433811, Theta1: 0.9899501870043007\n",
            "Cost: 5.819630138821611, Theta0: -0.6928241338706673, Theta1: 0.9908980166068622\n",
            "Cost: 5.737213257259333, Theta0: -0.6928098855380715, Theta1: 0.9918135714582954\n",
            "Cost: 5.660313555755273, Theta0: -0.6927961037010819, Theta1: 0.9926979505436292\n",
            "Cost: 5.5885617011542505, Theta0: -0.6927827724751374, Theta1: 0.9935522154264389\n",
            "Cost: 5.521613084340985, Theta0: -0.692769876516561, Theta1: 0.9943773915230815\n",
            "Cost: 5.4591461651539435, Theta0: -0.6927574010041418, Theta1: 0.9951744693335418\n",
            "Cost: 5.400860928094774, Theta0: -0.6927453316213452, Theta1: 0.9959444056303671\n",
            "Cost: 5.346477441416154, Theta0: -0.6927336545391275, Theta1: 0.9966881246071174\n",
            "Cost: 5.295734512667699, Theta0: -0.6927223563993368, Theta1: 0.99740651898771\n",
            "Cost: 5.248388434242857, Theta0: -0.6927114242986784, Theta1: 0.9981004510979901\n",
            "Cost: 5.204211812901932, Theta0: -0.6927008457732269, Theta1: 0.9987707539008125\n",
            "Cost: 5.162992477649485, Theta0: -0.692690608783465, Theta1: 0.9994182319958794\n",
            "Cost: 5.124532460721175, Theta0: -0.692680701699832, Theta1: 1.0000436625855311\n",
            "Cost: 5.088647046785627, Theta0: -0.6926711132887645, Theta1: 1.0006477964076521\n",
            "Cost: 5.055163885795087, Theta0: -0.6926618326992123, Theta1: 1.0012313586368093\n",
            "Cost: 5.023922165223901, Theta0: -0.6926528494496136, Theta1: 1.001795049754708\n",
            "Cost: 4.994771837719381, Theta0: -0.692644153415313, Theta1: 1.0023395463910045\n",
            "Cost: 4.967572900455483, Theta0: -0.6926357348164095, Theta1: 1.0028655021354926\n",
            "Cost: 4.942194722728335, Theta0: -0.6926275842060163, Theta1: 1.0033735483226307\n",
            "Cost: 4.918515418564044, Theta0: -0.6926196924589221, Theta1: 1.003864294789357\n",
            "Cost: 4.896421261325744, Theta0: -0.6926120507606373, Theta1: 1.0043383306070996\n",
            "Cost: 4.8758061375080946, Theta0: -0.6926046505968138, Theta1: 1.0047962247888618\n",
            "Cost: 4.856571037096193, Theta0: -0.692597483743025, Theta1: 1.0052385269722293\n",
            "Cost: 4.838623578041032, Theta0: -0.6925905422548936, Theta1: 1.0056657680791212\n",
            "Cost: 4.821877562567682, Theta0: -0.6925838184585555, Theta1: 1.0060784609530762\n",
            "Cost: 4.806252563185257, Theta0: -0.692577304941449, Theta1: 1.0064771009748377\n",
            "Cost: 4.79167353641043, Theta0: -0.6925709945434166, Theta1: 1.0068621666569777\n",
            "Cost: 4.778070462349113, Theta0: -0.6925648803481113, Theta1: 1.0072341202182746\n",
            "Cost: 4.765378008405472, Theta0: -0.6925589556746935, Theta1: 1.007593408138531\n",
            "Cost: 4.753535215503019, Theta0: -0.6925532140698129, Theta1: 1.0079404616945005\n",
            "Cost: 4.74248520531084, Theta0: -0.6925476492998611, Theta1: 1.0082756974775657\n",
            "Cost: 4.73217490706876, Theta0: -0.6925422553434906, Theta1: 1.0085995178937892\n",
            "Cost: 4.72255480269952, Theta0: -0.6925370263843855, Theta1: 1.0089123116469354\n",
            "Cost: 4.713578688983727, Theta0: -0.6925319568042815, Theta1: 1.0092144542050476\n",
            "Cost: 4.7052034556553775, Theta0: -0.6925270411762209, Theta1: 1.0095063082511362\n",
            "Cost: 4.697388878352218, Theta0: -0.6925222742580392, Theta1: 1.0097882241185205\n",
            "Cost: 4.690097425426468, Theta0: -0.6925176509860724, Theta1: 1.0100605402113474\n",
            "Cost: 4.683294077688109, Theta0: -0.6925131664690788, Theta1: 1.0103235834107909\n",
            "Cost: 4.676946160215007, Theta0: -0.692508815982368, Theta1: 1.0105776694674191\n",
            "Cost: 4.671023185422015, Theta0: -0.6925045949621298, Theta1: 1.0108231033802029\n",
            "Cost: 4.665496706635454, Theta0: -0.6925004989999558, Theta1: 1.0110601797626166\n",
            "Cost: 4.660340181469637, Theta0: -0.6924965238375481, Theta1: 1.0112891831962743\n",
            "Cost: 4.655528844349307, Theta0: -0.6924926653616077, Theta1: 1.0115103885725236\n",
            "Cost: 4.651039587565709, Theta0: -0.6924889195988972, Theta1: 1.0117240614224088\n",
            "Cost: 4.64685085029508, Theta0: -0.6924852827114717, Theta1: 1.0119304582353967\n",
            "Cost: 4.642942515046475, Theta0: -0.6924817509920717, Theta1: 1.0121298267672518\n",
            "Cost: 4.639295811041642, Theta0: -0.6924783208596733, Theta1: 1.0123224063374263\n",
            "Cost: 4.635893224062869, Theta0: -0.69247498885519, Theta1: 1.0125084281163244\n",
            "Cost: 4.632718412335831, Theta0: -0.6924717516373202, Theta1: 1.012688115402785\n",
            "Cost: 4.62975612804345, Theta0: -0.6924686059785368, Theta1: 1.0128616838921154\n",
            "Cost: 4.626992144093781, Theta0: -0.6924655487612127, Theta1: 1.0130293419349994\n",
            "Cost: 4.62441318579026, Theta0: -0.6924625769738793, Theta1: 1.0131912907875873\n",
            "Cost: 4.622006867076079, Theta0: -0.6924596877076109, Theta1: 1.0133477248530725\n",
            "Cost: 4.619761631046525, Theta0: -0.6924568781525338, Theta1: 1.0134988319150402\n",
            "Cost: 4.617666694443584, Theta0: -0.6924541455944526, Theta1: 1.0136447933628716\n",
            "Cost: 4.615711995866175, Theta0: -0.6924514874115931, Theta1: 1.013785784409472\n",
            "Cost: 4.613888147447339, Theta0: -0.692448901071455, Theta1: 1.013921974301586\n",
            "Cost: 4.612186389766252, Theta0: -0.6924463841277716, Theta1: 1.0140535265229502\n",
            "Cost: 4.6105985497785635, Theta0: -0.6924439342175741, Theta1: 1.0141805989905297\n",
            "Cost: 4.60911700156294, Theta0: -0.692441549058355, Theta1: 1.0143033442440712\n",
            "Cost: 4.607734629695368, Theta0: -0.6924392264453281, Theta1: 1.0144219096292022\n",
            "Cost: 4.606444795075239, Theta0: -0.6924369642487823, Theta1: 1.0145364374742958\n",
            "Cost: 4.605241303039127, Theta0: -0.6924347604115252, Theta1: 1.014647065261313\n",
            "Cost: 4.604118373609108, Theta0: -0.6924326129464136, Theta1: 1.0147539257908273\n",
            "Cost: 4.603070613732732, Theta0: -0.6924305199339683, Theta1: 1.01485714734143\n",
            "Cost: 4.602092991381307, Theta0: -0.6924284795200704, Theta1: 1.0149568538237084\n",
            "Cost: 4.601180811382102, Theta0: -0.692426489913735, Theta1: 1.0150531649289796\n",
            "Cost: 4.600329692868425, Theta0: -0.6924245493849625, Theta1: 1.0151461962729615\n",
            "Cost: 4.599535548239216, Theta0: -0.6924226562626608, Theta1: 1.0152360595345504\n",
            "Cost: 4.598794563527147, Theta0: -0.6924208089326402, Theta1: 1.0153228625898727\n",
            "Cost: 4.598103180080941, Theta0: -0.6924190058356761, Theta1: 1.0154067096417734\n",
            "Cost: 4.597458077473905, Theta0: -0.6924172454656361, Theta1: 1.0154877013448944\n",
            "Cost: 4.596856157556592, Theta0: -0.6924155263676737, Theta1: 1.015565934926495\n",
            "Cost: 4.59629452957706, Theta0: -0.6924138471364809, Theta1: 1.0156415043031557\n",
            "Cost: 4.595770496297173, Theta0: -0.692412206414602, Theta1: 1.0157145001935115\n",
            "Cost: 4.59528154103833, Theta0: -0.6924106028908037, Theta1: 1.0157850102271442\n",
            "Cost: 4.594825315594384, Theta0: -0.6924090352985014, Theta1: 1.0158531190497673\n",
            "Cost: 4.594399628953689, Theta0: -0.692407502414239, Theta1: 1.01591890842483\n",
            "Cost: 4.594002436776133, Theta0: -0.69240600305622, Theta1: 1.0159824573316603\n",
            "Cost: 4.59363183157459, Theta0: -0.6924045360828895, Theta1: 1.0160438420602678\n",
            "Cost: 4.593286033553662, Theta0: -0.6924031003915634, Theta1: 1.0161031363029167\n",
            "Cost: 4.592963382061687, Theta0: -0.6924016949171049, Theta1: 1.0161604112425815\n",
            "Cost: 4.592662327614975, Theta0: -0.6924003186306462, Theta1: 1.016215735638391\n",
            "Cost: 4.592381424455959, Theta0: -0.6923989705383535, Theta1: 1.0162691759081621\n",
            "Cost: 4.592119323609521, Theta0: -0.6923976496802338, Theta1: 1.016320796208124\n",
            "Cost: 4.59187476640415, Theta0: -0.6923963551289828, Theta1: 1.0163706585099272\n",
            "Cost: 4.591646578426796, Theta0: -0.6923950859888718, Theta1: 1.0164188226750301\n",
            "Cost: 4.59143366388241, Theta0: -0.6923938413946724, Theta1: 1.0164653465265536\n",
            "Cost: 4.591235000331075, Theta0: -0.6923926205106181, Theta1: 1.0165102859186876\n",
            "Cost: 4.591049633777431, Theta0: -0.692391422529401, Theta1: 1.0165536948037357\n",
            "Cost: 4.590876674088836, Theta0: -0.6923902466712029, Theta1: 1.0165956252968757\n",
            "Cost: 4.590715290720245, Theta0: -0.6923890921827588, Theta1: 1.0166361277387157\n",
            "Cost: 4.590564708725273, Theta0: -0.6923879583364534, Theta1: 1.0166752507557195\n",
            "Cost: 4.590424205034289, Theta0: -0.6923868444294472, Theta1: 1.016713041318575\n",
            "Cost: 4.590293104981665, Theta0: -0.6923857497828331, Theta1: 1.016749544798575\n",
            "Cost: 4.59017077906549, Theta0: -0.6923846737408214, Theta1: 1.0167848050220778\n",
            "Cost: 4.590056639924216, Theta0: -0.6923836156699525, Theta1: 1.016818864323114\n",
            "Cost: 4.589950139515665, Theta0: -0.6923825749583371, Theta1: 1.0168517635942012\n",
            "Cost: 4.589850766484914, Theta0: -0.6923815510149208, Theta1: 1.016883542335429\n",
            "Cost: 4.589758043708347, Theta0: -0.6923805432687755, Theta1: 1.016914238701873\n",
            "Cost: 4.589671526002144, Theta0: -0.6923795511684135, Theta1: 1.016943889549393\n",
            "Cost: 4.5895907979841475, Theta0: -0.6923785741811259, Theta1: 1.0169725304788726\n",
            "Cost: 4.589515472078865, Theta0: -0.6923776117923429, Theta1: 1.017000195878953\n",
            "Cost: 4.589445186656036, Theta0: -0.6923766635050165, Theta1: 1.01702691896731\n",
            "Cost: 4.589379604293781, Theta0: -0.6923757288390233, Theta1: 1.0170527318305274\n",
            "Cost: 4.5893184101580555, Theta0: -0.6923748073305889, Theta1: 1.0170776654626106\n",
            "Cost: 4.589261310490544, Theta0: -0.6923738985317306, Theta1: 1.017101749802191\n",
            "Cost: 4.589208031197817, Theta0: -0.6923730020097201, Theta1: 1.017125013768462\n",
            "Cost: 4.58915831653491, Theta0: -0.6923721173465638, Theta1: 1.0171474852958915\n",
            "Cost: 4.589111927877033, Theta0: -0.6923712441385012, Theta1: 1.0171691913677534\n",
            "Cost: 4.589068642573508, Theta0: -0.69237038199552, Theta1: 1.017190158048516\n",
            "Cost: 4.5890282528784265, Theta0: -0.6923695305408887, Theta1: 1.0172104105151285\n",
            "Cost: 4.588990564952878, Theta0: -0.6923686894107032, Theta1: 1.0172299730872418\n",
            "Cost: 4.588955397933996, Theta0: -0.6923678582534512, Theta1: 1.0172488692564001\n",
            "Cost: 4.588922583066304, Theta0: -0.6923670367295894, Theta1: 1.017267121714239\n",
            "Cost: 4.588891962891211, Theta0: -0.6923662245111365, Theta1: 1.0172847523797233\n",
            "Cost: 4.588863390490788, Theta0: -0.6923654212812791, Theta1: 1.0173017824254562\n",
            "Cost: 4.5888367287821366, Theta0: -0.6923646267339916, Theta1: 1.0173182323030947\n",
            "Cost: 4.588811849859015, Theta0: -0.692363840573669, Theta1: 1.017334121767898\n",
            "Cost: 4.58878863437753, Theta0: -0.6923630625147716, Theta1: 1.0173494699024401\n",
            "Cost: 4.588766970982952, Theta0: -0.692362292281483, Theta1: 1.0173642951395163\n",
            "Cost: 4.588746755774899, Theta0: -0.6923615296073784, Theta1: 1.017378615284268\n",
            "Cost: 4.588727891808332, Theta0: -0.6923607742351049, Theta1: 1.0173924475355554\n",
            "Cost: 4.588710288627942, Theta0: -0.6923600259160728, Theta1: 1.017405808506601\n",
            "Cost: 4.588693861833714, Theta0: -0.6923592844101571, Theta1: 1.017418714244932\n",
            "Cost: 4.588678532675566, Theta0: -0.6923585494854095, Theta1: 1.017431180251643\n",
            "Cost: 4.5886642276751415, Theta0: -0.6923578209177794, Theta1: 1.0174432215000015\n",
            "Cost: 4.5886508782728965, Theta0: -0.6923570984908455, Theta1: 1.0174548524534217\n",
            "Cost: 4.588638420498822, Theta0: -0.6923563819955558, Theta1: 1.0174660870828252\n",
            "Cost: 4.588626794665223, Theta0: -0.6923556712299769, Theta1: 1.0174769388834106\n",
            "Cost: 4.588615945080028, Theta0: -0.6923549659990511, Theta1: 1.0174874208908529\n",
            "Cost: 4.588605819779338, Theta0: -0.6923542661143628, Theta1: 1.0174975456969502\n",
            "Cost: 4.588596370277833, Theta0: -0.6923535713939121, Theta1: 1.017507325464738\n",
            "Cost: 4.588587551335914, Theta0: -0.6923528816618962, Theta1: 1.0175167719430898\n",
            "Cost: 4.58857932074244, Theta0: -0.6923521967484989, Theta1: 1.0175258964808185\n",
            "Cost: 4.5885716391119695, Theta0: -0.6923515164896861, Theta1: 1.0175347100402998\n",
            "Cost: 4.588564469695629, Theta0: -0.6923508407270093, Theta1: 1.0175432232106305\n",
            "Cost: 4.588557778204589, Theta0: -0.6923501693074152, Theta1: 1.0175514462203388\n",
            "Cost: 4.588551532645409, Theta0: -0.6923495020830625, Theta1: 1.017559388949662\n",
            "Cost: 4.588545703166354, Theta0: -0.6923488389111435, Theta1: 1.017567060942406\n",
            "Cost: 4.588540261914045, Theta0: -0.6923481796537136, Theta1: 1.0175744714174018\n",
            "Cost: 4.588535182899666, Theta0: -0.6923475241775253, Theta1: 1.0175816292795703\n",
            "Cost: 4.588530441874163, Theta0: -0.6923468723538682, Theta1: 1.017588543130612\n",
            "Cost: 4.58852601621176, Theta0: -0.6923462240584145, Theta1: 1.0175952212793313\n",
            "Cost: 4.588521884801317, Theta0: -0.6923455791710701, Theta1: 1.0176016717516103\n",
            "Cost: 4.588518027944911, Theta0: -0.6923449375758302, Theta1: 1.0176079023000422\n",
            "Cost: 4.588514427263256, Theta0: -0.6923442991606399, Theta1: 1.0176139204132375\n",
            "Cost: 4.588511065607413, Theta0: -0.69234366381726, Theta1: 1.0176197333248125\n",
            "Cost: 4.588507926976434, Theta0: -0.692343031441137, Theta1: 1.017625348022072\n",
            "Cost: 4.588504996440516, Theta0: -0.6923424019312773, Theta1: 1.017630771254397\n",
            "Cost: 4.588502260069291, Theta0: -0.6923417751901265, Theta1: 1.0176360095413457\n",
            "Cost: 4.588499704864918, Theta0: -0.6923411511234518, Theta1: 1.0176410691804791\n",
            "Cost: 4.5884973186996705, Theta0: -0.6923405296402294, Theta1: 1.017645956254921\n",
            "Cost: 4.588495090257677, Theta0: -0.6923399106525346, Theta1: 1.0176506766406586\n",
            "Cost: 4.588493008980572, Theta0: -0.6923392940754369, Theta1: 1.0176552360135966\n",
            "Cost: 4.588491065016805, Theta0: -0.6923386798268976, Theta1: 1.0176596398563702\n",
            "Cost: 4.588489249174298, Theta0: -0.6923380678276714, Theta1: 1.0176638934649254\n",
            "Cost: 4.588487552876322, Theta0: -0.6923374580012116, Theta1: 1.0176680019548765\n",
            "Cost: 4.58848596812029, Theta0: -0.6923368502735779, Theta1: 1.0176719702676464\n",
            "Cost: 4.588484487439331, Theta0: -0.6923362445733477, Theta1: 1.017675803176398\n",
            "Cost: 4.588483103866417, Theta0: -0.6923356408315305, Theta1: 1.0176795052917635\n",
            "Cost: 4.5884818109009196, Theta0: -0.6923350389814849, Theta1: 1.0176830810673791\n",
            "Cost: 4.588480602477367, Theta0: -0.6923344389588386, Theta1: 1.0176865348052304\n",
            "Cost: 4.588479472936334, Theta0: -0.6923338407014116, Theta1: 1.0176898706608162\n",
            "Cost: 4.588478416997245, Theta0: -0.6923332441491408, Theta1: 1.0176930926481371\n",
            "Cost: 4.588477429733021, Theta0: -0.6923326492440084, Theta1: 1.0176962046445133\n",
            "Optimal Theta 0: -0.6923326492440084, Optimal Theta 1: 1.0176962046445133\n"
          ]
        }
      ]
    },
    {
      "cell_type": "code",
      "source": [],
      "metadata": {
        "id": "MD38HxAZjU_y"
      },
      "execution_count": null,
      "outputs": []
    }
  ]
}